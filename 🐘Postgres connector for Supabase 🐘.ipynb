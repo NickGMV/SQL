{
 "cells": [
  {
   "cell_type": "code",
   "execution_count": 2,
   "metadata": {},
   "outputs": [],
   "source": [
    "# Run this to start \n",
    "exec('''import urllib; exec(urllib.request.urlopen('https://raw.githubusercontent.com/NickGMV/SQL/main/set_up_alt_sql2.txt').read())''')"
   ]
  },
  {
   "cell_type": "markdown",
   "metadata": {},
   "source": [
    "# SQL Connection 🐘\n",
    "\n",
    "This notebook will connect you to the bit.io database <b> DO NOT worry </b> about the code in cells above it is setting up a connection using python APIs. Maintain focus on writing your queries in SQL\n",
    "\n",
    "<b> Some key tips </b>\n",
    "\n",
    "- To run a cell press \"shft + enter\", \"ctrl +enter\" or click on the cell and click the play/run button\n",
    "- Write your queries between the triple quotes, you can use any SQL syntax your coach demonstrates\n",
    "- Don't worry about making mistakes in SQL this environment is built specifically for them =) \n",
    "- ENJOY (NG)\n"
   ]
  },
  {
   "cell_type": "markdown",
   "metadata": {},
   "source": [
    "<hr style=\"width:100%;height:10px;border-width:0;color:gray;background-color:blue\">\n",
    "<hr style=\"width:100%;height:10px;border-width:0;color:gray;background-color:black\">"
   ]
  },
  {
   "cell_type": "markdown",
   "metadata": {},
   "source": [
    "## Use this section to see what tables are available"
   ]
  },
  {
   "cell_type": "code",
   "execution_count": 3,
   "metadata": {},
   "outputs": [
    {
     "data": {
      "text/html": [
       "<div style = 'margin:15px;'><table border=\"1\" class=\"dataframe\">\n",
       "  <thead>\n",
       "    <tr style=\"text-align: right;\">\n",
       "      <th></th>\n",
       "      <th>tablename</th>\n",
       "    </tr>\n",
       "  </thead>\n",
       "  <tbody>\n",
       "    <tr>\n",
       "      <th>0</th>\n",
       "      <td>users</td>\n",
       "    </tr>\n",
       "    <tr>\n",
       "      <th>1</th>\n",
       "      <td>plays</td>\n",
       "    </tr>\n",
       "    <tr>\n",
       "      <th>2</th>\n",
       "      <td>albums</td>\n",
       "    </tr>\n",
       "    <tr>\n",
       "      <th>3</th>\n",
       "      <td>tracks</td>\n",
       "    </tr>\n",
       "    <tr>\n",
       "      <th>4</th>\n",
       "      <td>new_plays</td>\n",
       "    </tr>\n",
       "    <tr>\n",
       "      <th>5</th>\n",
       "      <td>artists</td>\n",
       "    </tr>\n",
       "  </tbody>\n",
       "</table></div>"
      ],
      "text/plain": [
       "<IPython.core.display.HTML object>"
      ]
     },
     "metadata": {},
     "output_type": "display_data"
    },
    {
     "name": "stdout",
     "output_type": "stream",
     "text": [
      "Query completed\n"
     ]
    }
   ],
   "source": [
    "# Put in an initial query to see what tables we have access to just change the Database name in the query\n",
    "eda_query = \"\"\"\n",
    "SELECT tablename\n",
    "FROM pg_catalog.pg_tables\n",
    "WHERE schemaname = 'public'\n",
    "\"\"\"\n",
    "\n",
    "run_query(eda_query,cur,conn,excel = False)\n"
   ]
  },
  {
   "cell_type": "code",
   "execution_count": 4,
   "metadata": {},
   "outputs": [
    {
     "data": {
      "text/html": [
       "\n",
       "    <script>\n",
       "    var options = `fullscreen=No,width=${screen.height/2},height=${screen.height/2}`\n",
       "    //window.alert(options)\n",
       "    var a = window.open(\"https://raw.githubusercontent.com/NickGMV/SQL/main/ERD%20supabase.png\",\"name\",specs = options);\n",
       "    a.focus();\n",
       "    </script>\n",
       "    "
      ],
      "text/plain": [
       "<IPython.core.display.HTML object>"
      ]
     },
     "execution_count": 4,
     "metadata": {},
     "output_type": "execute_result"
    }
   ],
   "source": [
    "# Use this to popup and ERD of the database\n",
    "ERD()"
   ]
  },
  {
   "cell_type": "markdown",
   "metadata": {},
   "source": [
    "<hr style=\"width:100%;height:10px;border-width:0;color:gray;background-color:blue\">\n",
    "<hr style=\"width:100%;height:10px;border-width:0;color:gray;background-color:black\">"
   ]
  },
  {
   "cell_type": "markdown",
   "metadata": {},
   "source": [
    "# Use this section to query your database"
   ]
  },
  {
   "cell_type": "code",
   "execution_count": 12,
   "metadata": {
    "scrolled": true
   },
   "outputs": [
    {
     "data": {
      "text/html": [
       "<div style = 'margin:15px;'><table border=\"1\" class=\"dataframe\">\n",
       "  <thead>\n",
       "    <tr style=\"text-align: right;\">\n",
       "      <th></th>\n",
       "      <th>artist_id</th>\n",
       "      <th>artist_name</th>\n",
       "      <th>genre</th>\n",
       "      <th>artist_popularity</th>\n",
       "      <th>followers</th>\n",
       "    </tr>\n",
       "  </thead>\n",
       "  <tbody>\n",
       "    <tr>\n",
       "      <th>0</th>\n",
       "      <td>Anunva949KA</td>\n",
       "      <td>Tones And I</td>\n",
       "      <td>australian pop</td>\n",
       "      <td>78</td>\n",
       "      <td>2873472</td>\n",
       "    </tr>\n",
       "    <tr>\n",
       "      <th>1</th>\n",
       "      <td>Axsccy438DL</td>\n",
       "      <td>Arizona Zervas</td>\n",
       "      <td>pop rap</td>\n",
       "      <td>73</td>\n",
       "      <td>637551</td>\n",
       "    </tr>\n",
       "    <tr>\n",
       "      <th>2</th>\n",
       "      <td>Ablrnm325TU</td>\n",
       "      <td>KAROL G</td>\n",
       "      <td>latin</td>\n",
       "      <td>89</td>\n",
       "      <td>19329818</td>\n",
       "    </tr>\n",
       "    <tr>\n",
       "      <th>3</th>\n",
       "      <td>Abovjv379ZH</td>\n",
       "      <td>Nicki Minaj</td>\n",
       "      <td>dance pop</td>\n",
       "      <td>89</td>\n",
       "      <td>22924575</td>\n",
       "    </tr>\n",
       "    <tr>\n",
       "      <th>4</th>\n",
       "      <td>Akfizu190BH</td>\n",
       "      <td>Maroon 5</td>\n",
       "      <td>pop</td>\n",
       "      <td>89</td>\n",
       "      <td>33552784</td>\n",
       "    </tr>\n",
       "    <tr>\n",
       "      <th>5</th>\n",
       "      <td>Asdmap686IY</td>\n",
       "      <td>Trevor Daniel</td>\n",
       "      <td>alternative r&amp;b</td>\n",
       "      <td>74</td>\n",
       "      <td>652030</td>\n",
       "    </tr>\n",
       "    <tr>\n",
       "      <th>6</th>\n",
       "      <td>Aapbwg488DY</td>\n",
       "      <td>Post Malone</td>\n",
       "      <td>dfw rap</td>\n",
       "      <td>91</td>\n",
       "      <td>34617132</td>\n",
       "    </tr>\n",
       "    <tr>\n",
       "      <th>7</th>\n",
       "      <td>Azvkpw399TU</td>\n",
       "      <td>Dua Lipa</td>\n",
       "      <td>dance pop</td>\n",
       "      <td>93</td>\n",
       "      <td>29212031</td>\n",
       "    </tr>\n",
       "    <tr>\n",
       "      <th>8</th>\n",
       "      <td>Ahvkzg475WU</td>\n",
       "      <td>The Weeknd</td>\n",
       "      <td>canadian contemporary r&amp;b</td>\n",
       "      <td>95</td>\n",
       "      <td>37879402</td>\n",
       "    </tr>\n",
       "    <tr>\n",
       "      <th>9</th>\n",
       "      <td>Aoiekc907LD</td>\n",
       "      <td>Shawn Mendes</td>\n",
       "      <td>canadian pop</td>\n",
       "      <td>88</td>\n",
       "      <td>35003508</td>\n",
       "    </tr>\n",
       "  </tbody>\n",
       "</table></div>"
      ],
      "text/plain": [
       "<IPython.core.display.HTML object>"
      ]
     },
     "metadata": {},
     "output_type": "display_data"
    },
    {
     "name": "stdout",
     "output_type": "stream",
     "text": [
      "Query completed\n"
     ]
    }
   ],
   "source": [
    "# Type your query between the triple quotes all postgres syntax should work here\n",
    "query = \"\"\"\n",
    "SELECT *\n",
    "FROM artists\n",
    "LIMIT 10;\n",
    "\"\"\"\n",
    "\n",
    "# By setting excel = True you get a csv output\n",
    "# If using this on collabs set excel = False\n",
    "run_query(query,cur,conn,excel = 'my_query.csv')\n",
    "\n"
   ]
  },
  {
   "cell_type": "markdown",
   "metadata": {},
   "source": [
    "<hr style=\"width:100%;height:10px;border-width:0;color:gray;background-color:blue\">\n",
    "<hr style=\"width:100%;height:10px;border-width:0;color:gray;background-color:black\">"
   ]
  },
  {
   "cell_type": "markdown",
   "metadata": {},
   "source": [
    "# What if this breaks?\n",
    "\n",
    "This guide should help if this code stops running for any reason.\n",
    "\n",
    "### Go through these steps in order\n",
    "\n",
    "1. Check the error messages under your query correct any SQL errors then rerun\n",
    "2. Try running the cells in this notebook again from top to bottom\n",
    "3. Run the cell containing \"conn.rollback() to undo your previous query\n",
    "4. Restart the notebook (kernel/runtime(top ribbon) => restart => runall)\n",
    "5. Close and restart you python editor"
   ]
  },
  {
   "cell_type": "code",
   "execution_count": 11,
   "metadata": {},
   "outputs": [],
   "source": [
    "# only use if run_query() function is not showing any output\n",
    "conn.rollback()"
   ]
  },
  {
   "cell_type": "markdown",
   "metadata": {},
   "source": [
    "### For coaches:\n",
    "\n",
    "src is here: <a href = 'https://github.com/NickGMV/SQL/blob/main/set_up_alt_sql2.txt'> SQL set up file </a>"
   ]
  }
 ],
 "metadata": {
  "kernelspec": {
   "display_name": "Python 3",
   "language": "python",
   "name": "python3"
  },
  "language_info": {
   "codemirror_mode": {
    "name": "ipython",
    "version": 3
   },
   "file_extension": ".py",
   "mimetype": "text/x-python",
   "name": "python",
   "nbconvert_exporter": "python",
   "pygments_lexer": "ipython3",
   "version": "3.8.5"
  }
 },
 "nbformat": 4,
 "nbformat_minor": 4
}
